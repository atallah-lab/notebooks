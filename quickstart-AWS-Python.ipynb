{
 "cells": [
  {
   "cell_type": "markdown",
   "metadata": {},
   "source": [
    "## Quickstart on using AWS S3 and EC2 from Python.\n",
    "\n",
    "##### You must first setup your environent to do this. Those steps are available [here](http://www.google.com)."
   ]
  },
  {
   "cell_type": "markdown",
   "metadata": {},
   "source": [
    "### S3 Init"
   ]
  },
  {
   "cell_type": "code",
   "execution_count": 15,
   "metadata": {
    "collapsed": true
   },
   "outputs": [],
   "source": [
    "import boto3\n",
    "s3 = boto3.resource('s3')"
   ]
  },
  {
   "cell_type": "markdown",
   "metadata": {},
   "source": [
    "#### Create a new bucket"
   ]
  },
  {
   "cell_type": "code",
   "execution_count": 16,
   "metadata": {
    "collapsed": false
   },
   "outputs": [
    {
     "data": {
      "text/plain": [
       "'201702071623_uno'"
      ]
     },
     "execution_count": 16,
     "metadata": {},
     "output_type": "execute_result"
    }
   ],
   "source": [
    "import datetime\n",
    "'''\n",
    "Create a new bucket on AWS. In Boto3 all 'action' parameters are \n",
    "passed via keyword arguments and a bucket configuration can be specified.\n",
    "'''\n",
    "today = datetime.datetime.today() \n",
    "bucket_name = today.strftime('%Y%m%d%H%M') + '_uno' # '_uno' tag makes it unique. \n",
    "\n",
    "# Create a bucket with naming: 'YYYY MM DD H M _uno'\n",
    "bucket_name = s3.create_bucket(Bucket=bucket_name)\n",
    "bucket_name.name"
   ]
  },
  {
   "cell_type": "markdown",
   "metadata": {},
   "source": [
    "#### Store some data"
   ]
  },
  {
   "cell_type": "code",
   "execution_count": 17,
   "metadata": {
    "collapsed": false
   },
   "outputs": [
    {
     "data": {
      "text/plain": [
       "{'ETag': '\"d41d8cd98f00b204e9800998ecf8427e\"',\n",
       " 'ResponseMetadata': {'HTTPHeaders': {'content-length': '0',\n",
       "   'date': 'Tue, 07 Feb 2017 22:23:09 GMT',\n",
       "   'etag': '\"d41d8cd98f00b204e9800998ecf8427e\"',\n",
       "   'server': 'AmazonS3',\n",
       "   'x-amz-id-2': 'MRehqU/UlKEW8RdhaB9gLVrw5f0lOZC/DoV/AxUjGQ38uOKAVbxds0nNmaijcos2Uh2hqo26RPg=',\n",
       "   'x-amz-request-id': 'D1E9D419CB169A7C'},\n",
       "  'HTTPStatusCode': 200,\n",
       "  'HostId': 'MRehqU/UlKEW8RdhaB9gLVrw5f0lOZC/DoV/AxUjGQ38uOKAVbxds0nNmaijcos2Uh2hqo26RPg=',\n",
       "  'RequestId': 'D1E9D419CB169A7C',\n",
       "  'RetryAttempts': 0}}"
      ]
     },
     "execution_count": 17,
     "metadata": {},
     "output_type": "execute_result"
    }
   ],
   "source": [
    "s3.Object(bucket_name.name, 'hello.txt').put(Body=open('./hello.txt', 'rb'))"
   ]
  },
  {
   "cell_type": "markdown",
   "metadata": {},
   "source": [
    "#### Access a bucket"
   ]
  },
  {
   "cell_type": "code",
   "execution_count": 18,
   "metadata": {
    "collapsed": false
   },
   "outputs": [
    {
     "name": "stdout",
     "output_type": "stream",
     "text": [
      "Jeff Bezos is one smart dude.\n"
     ]
    }
   ],
   "source": [
    "import botocore\n",
    "\n",
    "bucket = s3.Bucket(bucket_name.name)\n",
    "exists = True\n",
    "try:\n",
    "    response = s3.meta.client.head_bucket(Bucket=bucket_name.name)\n",
    "except botocore.exceptions.ClientError as e:\n",
    "    # If a client error is thrown, then check that it was a 404 error.\n",
    "    # If it was a 404 error, then the bucket does not exist.\n",
    "    error_code = int(e.response['Error']['Code'])\n",
    "    if error_code == 404:\n",
    "        exists = False\n",
    "        \n",
    "if (exists):\n",
    "    print('Jeff Bezos is one smart dude.')"
   ]
  },
  {
   "cell_type": "markdown",
   "metadata": {},
   "source": [
    "#### Iterate over contents of all buckets"
   ]
  },
  {
   "cell_type": "code",
   "execution_count": 19,
   "metadata": {
    "collapsed": false
   },
   "outputs": [
    {
     "name": "stdout",
     "output_type": "stream",
     "text": [
      "hello.txt\n"
     ]
    }
   ],
   "source": [
    "for bucket in s3.buckets.all():\n",
    "    for key in bucket.objects.all():\n",
    "        print(key.key)"
   ]
  },
  {
   "cell_type": "markdown",
   "metadata": {},
   "source": [
    "### EC2 Init"
   ]
  },
  {
   "cell_type": "code",
   "execution_count": 20,
   "metadata": {
    "collapsed": true
   },
   "outputs": [],
   "source": [
    "ec2 = boto3.resource('ec2')"
   ]
  },
  {
   "cell_type": "markdown",
   "metadata": {},
   "source": [
    "#### Launch a new instance"
   ]
  },
  {
   "cell_type": "code",
   "execution_count": 21,
   "metadata": {
    "collapsed": true
   },
   "outputs": [],
   "source": [
    "# ec2.create_instances(ImageId='<ami-image-id>', MinCount=1, MaxCount=5)"
   ]
  },
  {
   "cell_type": "markdown",
   "metadata": {},
   "source": [
    "#### Check which instance[s] are running. "
   ]
  },
  {
   "cell_type": "code",
   "execution_count": 22,
   "metadata": {
    "collapsed": false
   },
   "outputs": [],
   "source": [
    "# Uses the filter() method of the instances collection to retrieve\n",
    "# all running instances.\n",
    "\n",
    "\n",
    "# instances = ec2.instances.filter(\n",
    "#     Filters=[{'Name': 'instance-state-name', 'Values': ['running']}])\n",
    "# for instance in instances:\n",
    "#     print(instance.id, instance.instance_type)"
   ]
  },
  {
   "cell_type": "markdown",
   "metadata": {},
   "source": [
    "#### Stop/terminate instance[s]."
   ]
  },
  {
   "cell_type": "code",
   "execution_count": 23,
   "metadata": {
    "collapsed": true
   },
   "outputs": [],
   "source": [
    "# ids = ['instance-id-1', 'instance-id-2', ...]\n",
    "# ec2.instances.filter(InstanceIds=ids).terminate()"
   ]
  },
  {
   "cell_type": "markdown",
   "metadata": {},
   "source": [
    "#### Check status of instance[s]."
   ]
  },
  {
   "cell_type": "code",
   "execution_count": 24,
   "metadata": {
    "collapsed": true
   },
   "outputs": [],
   "source": [
    "# for status in ec2.meta.client.describe_instance_status()['InstanceStatuses']:\n",
    "#    print(status)"
   ]
  }
 ],
 "metadata": {
  "anaconda-cloud": {},
  "kernelspec": {
   "display_name": "Python [conda env:aws]",
   "language": "python",
   "name": "conda-env-aws-py"
  },
  "language_info": {
   "codemirror_mode": {
    "name": "ipython",
    "version": 3
   },
   "file_extension": ".py",
   "mimetype": "text/x-python",
   "name": "python",
   "nbconvert_exporter": "python",
   "pygments_lexer": "ipython3",
   "version": "3.5.2"
  }
 },
 "nbformat": 4,
 "nbformat_minor": 2
}

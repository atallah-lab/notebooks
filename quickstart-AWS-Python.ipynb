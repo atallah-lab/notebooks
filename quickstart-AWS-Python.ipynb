{
 "cells": [
  {
   "cell_type": "markdown",
   "metadata": {},
   "source": [
    "## Quickstart on using AWS from Python at the command-line. \n",
    "\n",
    "You must first setup your environent to do this. Guides for these steps are \n",
    "available [here](http:www/google.com)."
   ]
  },
  {
   "cell_type": "markdown",
   "metadata": {},
   "source": [
    "### Setup"
   ]
  },
  {
   "cell_type": "code",
   "execution_count": 34,
   "metadata": {
    "collapsed": true
   },
   "outputs": [],
   "source": [
    "import boto3\n",
    "s3 = boto3.resource('s3')"
   ]
  },
  {
   "cell_type": "markdown",
   "metadata": {},
   "source": [
    "### Create a New Bucket"
   ]
  },
  {
   "cell_type": "code",
   "execution_count": 35,
   "metadata": {
    "collapsed": false
   },
   "outputs": [
    {
     "data": {
      "text/plain": [
       "'201702071420_uno'"
      ]
     },
     "execution_count": 35,
     "metadata": {},
     "output_type": "execute_result"
    }
   ],
   "source": [
    "import datetime\n",
    "'''\n",
    "Create a new bucket on AWS. In Boto3 all 'action' parameters are \n",
    "passed via keyword arguments and a bucket configuration can be specified.\n",
    "'''\n",
    "today = datetime.datetime.today() \n",
    "bucket_name = today.strftime('%Y%m%d%H%M') + '_uno' # '_uno' tag makes it unique. \n",
    "\n",
    "# Create a bucket with naming: 'YYYY MM DD H M _uno'\n",
    "bucket_name = s3.create_bucket(Bucket=bucket_name)\n",
    "bucket_name.name"
   ]
  },
  {
   "cell_type": "markdown",
   "metadata": {},
   "source": [
    "### Store Some Data"
   ]
  },
  {
   "cell_type": "code",
   "execution_count": 36,
   "metadata": {
    "collapsed": false
   },
   "outputs": [
    {
     "data": {
      "text/plain": [
       "{'ETag': '\"d41d8cd98f00b204e9800998ecf8427e\"',\n",
       " 'ResponseMetadata': {'HTTPHeaders': {'content-length': '0',\n",
       "   'date': 'Tue, 07 Feb 2017 20:20:35 GMT',\n",
       "   'etag': '\"d41d8cd98f00b204e9800998ecf8427e\"',\n",
       "   'server': 'AmazonS3',\n",
       "   'x-amz-id-2': 'f8pxQAxfDiLNCJhkEAuO39v7NbXV5BHJc4uF2knbKUMaEiC45toPSx9pD6JxpTLzfPFzE1yAIu0=',\n",
       "   'x-amz-request-id': '027D4B52E4F5C888'},\n",
       "  'HTTPStatusCode': 200,\n",
       "  'HostId': 'f8pxQAxfDiLNCJhkEAuO39v7NbXV5BHJc4uF2knbKUMaEiC45toPSx9pD6JxpTLzfPFzE1yAIu0=',\n",
       "  'RequestId': '027D4B52E4F5C888',\n",
       "  'RetryAttempts': 0}}"
      ]
     },
     "execution_count": 36,
     "metadata": {},
     "output_type": "execute_result"
    }
   ],
   "source": [
    "s3.Object(bucket_name.name, 'hello.txt').put(Body=open('./hello.txt', 'rb'))"
   ]
  },
  {
   "cell_type": "markdown",
   "metadata": {},
   "source": [
    "### Access a bucket"
   ]
  },
  {
   "cell_type": "code",
   "execution_count": 37,
   "metadata": {
    "collapsed": false
   },
   "outputs": [
    {
     "name": "stdout",
     "output_type": "stream",
     "text": [
      "('ResponseMetadata', {'HTTPHeaders': {'content-type': 'application/xml', 'x-amz-id-2': 'umAEk8/MfpslZj5kBUah20ZtlqKdxpRGtQeiD+WzSnzkbSIsB1rNWNTqBnUgn6ZtIiccm1GJpVM=', 'transfer-encoding': 'chunked', 'x-amz-bucket-region': 'us-east-1', 'server': 'AmazonS3', 'x-amz-request-id': 'FA9DDCAE1A395ECA', 'date': 'Tue, 07 Feb 2017 20:20:35 GMT'}, 'HTTPStatusCode': 200, 'RetryAttempts': 0, 'HostId': 'umAEk8/MfpslZj5kBUah20ZtlqKdxpRGtQeiD+WzSnzkbSIsB1rNWNTqBnUgn6ZtIiccm1GJpVM=', 'RequestId': 'FA9DDCAE1A395ECA'})\n"
     ]
    }
   ],
   "source": [
    "import botocore\n",
    "\n",
    "bucket = s3.Bucket(bucket_name.name)\n",
    "exists = True\n",
    "try:\n",
    "    response = s3.meta.client.head_bucket(Bucket=bucket_name.name)\n",
    "except botocore.exceptions.ClientError as e:\n",
    "    # If a client error is thrown, then check that it was a 404 error.\n",
    "    # If it was a 404 error, then the bucket does not exist.\n",
    "    error_code = int(e.response['Error']['Code'])\n",
    "    if error_code == 404:\n",
    "        exists = False\n",
    "        \n",
    "if (exists):\n",
    "    for result in list(response.items()):\n",
    "        print (result)"
   ]
  },
  {
   "cell_type": "markdown",
   "metadata": {},
   "source": [
    "### Iterate over contents of all buckets"
   ]
  },
  {
   "cell_type": "code",
   "execution_count": 39,
   "metadata": {
    "collapsed": false
   },
   "outputs": [
    {
     "name": "stdout",
     "output_type": "stream",
     "text": [
      "hello.txt\n"
     ]
    }
   ],
   "source": [
    "for bucket in s3.buckets.all():\n",
    "    for key in bucket.objects.all():\n",
    "        print(key.key)"
   ]
  }
 ],
 "metadata": {
  "anaconda-cloud": {},
  "kernelspec": {
   "display_name": "Python [conda env:aws]",
   "language": "python",
   "name": "conda-env-aws-py"
  },
  "language_info": {
   "codemirror_mode": {
    "name": "ipython",
    "version": 3
   },
   "file_extension": ".py",
   "mimetype": "text/x-python",
   "name": "python",
   "nbconvert_exporter": "python",
   "pygments_lexer": "ipython3",
   "version": "3.5.2"
  }
 },
 "nbformat": 4,
 "nbformat_minor": 2
}

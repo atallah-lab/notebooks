{
 "cells": [
  {
   "cell_type": "markdown",
   "metadata": {},
   "source": [
    "## Quickstart on using AWS S3 and EC2 from Python.\n",
    "\n",
    "##### You must first setup your environent to do this. Those steps are available [here](http://www.google.com)."
   ]
  },
  {
   "cell_type": "markdown",
   "metadata": {},
   "source": [
    "### S3 Init"
   ]
  },
  {
   "cell_type": "code",
   "execution_count": 1,
   "metadata": {
    "collapsed": true
   },
   "outputs": [],
   "source": [
    "import boto3\n",
    "s3 = boto3.resource('s3')"
   ]
  },
  {
   "cell_type": "markdown",
   "metadata": {},
   "source": [
    "#### Create a new bucket"
   ]
  },
  {
   "cell_type": "code",
   "execution_count": 2,
   "metadata": {
    "collapsed": false
   },
   "outputs": [
    {
     "data": {
      "text/plain": [
       "'201702071605_uno'"
      ]
     },
     "execution_count": 2,
     "metadata": {},
     "output_type": "execute_result"
    }
   ],
   "source": [
    "import datetime\n",
    "'''\n",
    "Create a new bucket on AWS. In Boto3 all 'action' parameters are \n",
    "passed via keyword arguments and a bucket configuration can be specified.\n",
    "'''\n",
    "today = datetime.datetime.today() \n",
    "bucket_name = today.strftime('%Y%m%d%H%M') + '_uno' # '_uno' tag makes it unique. \n",
    "\n",
    "# Create a bucket with naming: 'YYYY MM DD H M _uno'\n",
    "bucket_name = s3.create_bucket(Bucket=bucket_name)\n",
    "bucket_name.name"
   ]
  },
  {
   "cell_type": "markdown",
   "metadata": {},
   "source": [
    "#### Store some data"
   ]
  },
  {
   "cell_type": "code",
   "execution_count": 3,
   "metadata": {
    "collapsed": false
   },
   "outputs": [
    {
     "data": {
      "text/plain": [
       "{'ETag': '\"d41d8cd98f00b204e9800998ecf8427e\"',\n",
       " 'ResponseMetadata': {'HTTPHeaders': {'content-length': '0',\n",
       "   'date': 'Tue, 07 Feb 2017 22:05:18 GMT',\n",
       "   'etag': '\"d41d8cd98f00b204e9800998ecf8427e\"',\n",
       "   'server': 'AmazonS3',\n",
       "   'x-amz-id-2': 'wfvts9xFFlvmO6+NC9moLjDeN1oTW109ozR6dAfPjk3FatJvlmQzgUZXo9qBT8WUHgkA356AcOk=',\n",
       "   'x-amz-request-id': 'DBDCE155B655B2E6'},\n",
       "  'HTTPStatusCode': 200,\n",
       "  'HostId': 'wfvts9xFFlvmO6+NC9moLjDeN1oTW109ozR6dAfPjk3FatJvlmQzgUZXo9qBT8WUHgkA356AcOk=',\n",
       "  'RequestId': 'DBDCE155B655B2E6',\n",
       "  'RetryAttempts': 0}}"
      ]
     },
     "execution_count": 3,
     "metadata": {},
     "output_type": "execute_result"
    }
   ],
   "source": [
    "s3.Object(bucket_name.name, 'hello.txt').put(Body=open('./hello.txt', 'rb'))"
   ]
  },
  {
   "cell_type": "markdown",
   "metadata": {},
   "source": [
    "#### Access a bucket"
   ]
  },
  {
   "cell_type": "code",
   "execution_count": 4,
   "metadata": {
    "collapsed": false
   },
   "outputs": [
    {
     "name": "stdout",
     "output_type": "stream",
     "text": [
      "('ResponseMetadata', {'HostId': 'AMdCDO8GpOMJ5pUsYL6gWsTU5X/bmYYtFBdLiO05+fJEMkcoGsuUFBP6Dph/pD8ODeFlBxw36Fw=', 'RetryAttempts': 0, 'HTTPHeaders': {'date': 'Tue, 07 Feb 2017 22:05:18 GMT', 'x-amz-id-2': 'AMdCDO8GpOMJ5pUsYL6gWsTU5X/bmYYtFBdLiO05+fJEMkcoGsuUFBP6Dph/pD8ODeFlBxw36Fw=', 'server': 'AmazonS3', 'x-amz-request-id': 'ADFAB0B84365A699', 'content-type': 'application/xml', 'transfer-encoding': 'chunked', 'x-amz-bucket-region': 'us-east-1'}, 'RequestId': 'ADFAB0B84365A699', 'HTTPStatusCode': 200})\n"
     ]
    }
   ],
   "source": [
    "import botocore\n",
    "\n",
    "bucket = s3.Bucket(bucket_name.name)\n",
    "exists = True\n",
    "try:\n",
    "    response = s3.meta.client.head_bucket(Bucket=bucket_name.name)\n",
    "except botocore.exceptions.ClientError as e:\n",
    "    # If a client error is thrown, then check that it was a 404 error.\n",
    "    # If it was a 404 error, then the bucket does not exist.\n",
    "    error_code = int(e.response['Error']['Code'])\n",
    "    if error_code == 404:\n",
    "        exists = False\n",
    "        \n",
    "if (exists):\n",
    "    print('Jeff Bezos is one smart dude.')"
   ]
  },
  {
   "cell_type": "markdown",
   "metadata": {},
   "source": [
    "#### Iterate over contents of all buckets"
   ]
  },
  {
   "cell_type": "code",
   "execution_count": 5,
   "metadata": {
    "collapsed": false
   },
   "outputs": [
    {
     "name": "stdout",
     "output_type": "stream",
     "text": [
      "hello.txt\n"
     ]
    }
   ],
   "source": [
    "for bucket in s3.buckets.all():\n",
    "    for key in bucket.objects.all():\n",
    "        print(key.key)"
   ]
  }
 ],
 "metadata": {
  "anaconda-cloud": {},
  "kernelspec": {
   "display_name": "Python [conda env:aws]",
   "language": "python",
   "name": "conda-env-aws-py"
  },
  "language_info": {
   "codemirror_mode": {
    "name": "ipython",
    "version": 3
   },
   "file_extension": ".py",
   "mimetype": "text/x-python",
   "name": "python",
   "nbconvert_exporter": "python",
   "pygments_lexer": "ipython3",
   "version": "3.5.2"
  }
 },
 "nbformat": 4,
 "nbformat_minor": 2
}

{
 "cells": [
  {
   "cell_type": "markdown",
   "metadata": {},
   "source": [
    "## Example of Using RSVSim for Simulation  of  Structural  Variations  (SV). \n",
    "\n",
    "### (Assumes you are operating in a bioconda environment)"
   ]
  },
  {
   "cell_type": "code",
   "execution_count": 1,
   "metadata": {},
   "outputs": [
    {
     "name": "stderr",
     "output_type": "stream",
     "text": [
      "Bioconductor version 3.4 (BiocInstaller 1.24.0), ?biocLite for help\n",
      "BioC_mirror: https://bioconductor.org\n",
      "Using Bioconductor 3.4 (BiocInstaller 1.24.0), R 3.3.2 (2016-10-31).\n",
      "Installing package(s) ‘RSVSim’\n",
      "Updating HTML index of packages in '.Library'\n",
      "Making 'packages.html' ... done\n",
      "Old packages: 'assertthat', 'backports', 'broom', 'cluster', 'colorspace',\n",
      "  'curl', 'data.table', 'DBI', 'digest', 'forcats', 'ggplot2', 'jsonlite',\n",
      "  'lattice', 'Matrix', 'mgcv', 'nlme', 'openssl', 'pbdZMQ', 'pbkrtest',\n",
      "  'psych', 'Rcpp', 'RcppEigen', 'readr', 'repr', 'rmarkdown', 'rprojroot',\n",
      "  'selectr', 'shiny', 'sourcetools', 'SparseM', 'stringi', 'stringr',\n",
      "  'survival', 'tibble', 'tidyr', 'tidyverse', 'xml2', 'zoo'\n"
     ]
    }
   ],
   "source": [
    "source(\"https://bioconductor.org/biocLite.R\")\n",
    "\n",
    "# biocLite() is the recommended way to install Bioconductor packages:\n",
    "biocLite(\"RSVSim\")"
   ]
  },
  {
   "cell_type": "markdown",
   "metadata": {},
   "source": [
    "#### After installation, the package can be loaded into R."
   ]
  },
  {
   "cell_type": "code",
   "execution_count": 2,
   "metadata": {},
   "outputs": [
    {
     "name": "stderr",
     "output_type": "stream",
     "text": [
      "Loading required package: Biostrings\n",
      "Loading required package: BiocGenerics\n",
      "Loading required package: parallel\n",
      "\n",
      "Attaching package: ‘BiocGenerics’\n",
      "\n",
      "The following objects are masked from ‘package:parallel’:\n",
      "\n",
      "    clusterApply, clusterApplyLB, clusterCall, clusterEvalQ,\n",
      "    clusterExport, clusterMap, parApply, parCapply, parLapply,\n",
      "    parLapplyLB, parRapply, parSapply, parSapplyLB\n",
      "\n",
      "The following objects are masked from ‘package:stats’:\n",
      "\n",
      "    IQR, mad, xtabs\n",
      "\n",
      "The following objects are masked from ‘package:base’:\n",
      "\n",
      "    anyDuplicated, append, as.data.frame, cbind, colnames, do.call,\n",
      "    duplicated, eval, evalq, Filter, Find, get, grep, grepl, intersect,\n",
      "    is.unsorted, lapply, lengths, Map, mapply, match, mget, order,\n",
      "    paste, pmax, pmax.int, pmin, pmin.int, Position, rank, rbind,\n",
      "    Reduce, rownames, sapply, setdiff, sort, table, tapply, union,\n",
      "    unique, unsplit, which, which.max, which.min\n",
      "\n",
      "Loading required package: S4Vectors\n",
      "Loading required package: stats4\n",
      "\n",
      "Attaching package: ‘S4Vectors’\n",
      "\n",
      "The following objects are masked from ‘package:base’:\n",
      "\n",
      "    colMeans, colSums, expand.grid, rowMeans, rowSums\n",
      "\n",
      "Loading required package: IRanges\n",
      "Loading required package: XVector\n",
      "Loading required package: GenomicRanges\n",
      "Loading required package: GenomeInfoDb\n"
     ]
    }
   ],
   "source": [
    "library(RSVSim)"
   ]
  },
  {
   "cell_type": "markdown",
   "metadata": {},
   "source": [
    "#### The 'genome' has to be a named DNAStringSet (as below) or a pointer to a FASTA-file on a file system."
   ]
  },
  {
   "cell_type": "code",
   "execution_count": 3,
   "metadata": {},
   "outputs": [
    {
     "data": {
      "text/plain": [
       "  A DNAStringSet instance of length 2\n",
       "    width seq                                               names               \n",
       "[1]    40 AAAAAAAAAAAAAAAAAAAATTTTTTTTTTTTTTTTTTTT          chr1\n",
       "[2]    40 GGGGGGGGGGGGGGGGGGGGCCCCCCCCCCCCCCCCCCCC          chr2"
      ]
     },
     "metadata": {},
     "output_type": "display_data"
    }
   ],
   "source": [
    "# The main function for simulation is 'simulateSV'. It works in the same way for every\n",
    "# SV type - by specifying the number and size of variation(s), the regions (optional), \n",
    "# and where to place the variation (randomly or not).  \n",
    "\n",
    "genome = DNAStringSet(c(\"AAAAAAAAAAAAAAAAAAAATTTTTTTTTTTTTTTTTTTT\",\"GGGGGGGGGGGGGGGGGGGGCCCCCCCCCCCCCCCCCCCC\"))\n",
    "names(genome) = c(\"chr1\",\"chr2\")\n",
    "genome"
   ]
  },
  {
   "cell_type": "markdown",
   "metadata": {},
   "source": [
    "### DELETION \n",
    "#### The following generates three deletions of 10bp each."
   ]
  },
  {
   "cell_type": "code",
   "execution_count": 4,
   "metadata": {},
   "outputs": [
    {
     "data": {
      "text/html": [
       "<strong>$deletions</strong> = <table>\n",
       "<thead><tr><th scope=col>Name</th><th scope=col>Chr</th><th scope=col>Start</th><th scope=col>End</th><th scope=col>Size</th><th scope=col>BpSeq</th></tr></thead>\n",
       "<tbody>\n",
       "\t<tr><td>deletion1</td><td>chr1     </td><td>25       </td><td>34       </td><td>10       </td><td>TTTTTT   </td></tr>\n",
       "\t<tr><td>deletion2</td><td>chr2     </td><td>12       </td><td>21       </td><td>10       </td><td>GGGCCC   </td></tr>\n",
       "\t<tr><td>deletion3</td><td>chr1     </td><td> 9       </td><td>18       </td><td>10       </td><td>AAAAAT   </td></tr>\n",
       "</tbody>\n",
       "</table>\n"
      ],
      "text/latex": [
       "\\textbf{\\$deletions} = \\begin{tabular}{r|llllll}\n",
       " Name & Chr & Start & End & Size & BpSeq\\\\\n",
       "\\hline\n",
       "\t deletion1 & chr1      & 25        & 34        & 10        & TTTTTT   \\\\\n",
       "\t deletion2 & chr2      & 12        & 21        & 10        & GGGCCC   \\\\\n",
       "\t deletion3 & chr1      &  9        & 18        & 10        & AAAAAT   \\\\\n",
       "\\end{tabular}\n"
      ],
      "text/markdown": [
       "**$deletions** = \n",
       "Name | Chr | Start | End | Size | BpSeq | \n",
       "|---|---|---|\n",
       "| deletion1 | chr1      | 25        | 34        | 10        | TTTTTT    | \n",
       "| deletion2 | chr2      | 12        | 21        | 10        | GGGCCC    | \n",
       "| deletion3 | chr1      |  9        | 18        | 10        | AAAAAT    | \n",
       "\n",
       "\n"
      ],
      "text/plain": [
       "$deletions\n",
       "       Name  Chr Start End Size  BpSeq\n",
       "1 deletion1 chr1    25  34   10 TTTTTT\n",
       "2 deletion2 chr2    12  21   10 GGGCCC\n",
       "3 deletion3 chr1     9  18   10 AAAAAT\n"
      ]
     },
     "metadata": {},
     "output_type": "display_data"
    },
    {
     "data": {
      "text/plain": [
       "  A DNAStringSet instance of length 2\n",
       "    width seq                                               names               \n",
       "[1]    20 AAAAAAAAAATTTTTTTTTT                              chr1\n",
       "[2]    30 GGGGGGGGGGGCCCCCCCCCCCCCCCCCCC                    chr2"
      ]
     },
     "metadata": {},
     "output_type": "display_data"
    }
   ],
   "source": [
    "sim = simulateSV(output=NA, genome=genome, dels=3, sizeDels=10, bpSeqSize=6, seed=456, verbose=FALSE)\n",
    "metadata(sim)\n",
    "sim"
   ]
  },
  {
   "cell_type": "markdown",
   "metadata": {},
   "source": [
    "### INSERTION \n",
    "#### Here a segment is cut or copied from one chromosome and inserted  into  another .  The following generates three insertions of 5bp each."
   ]
  },
  {
   "cell_type": "code",
   "execution_count": 5,
   "metadata": {},
   "outputs": [
    {
     "data": {
      "text/html": [
       "<strong>$insertions</strong> = <table>\n",
       "<thead><tr><th scope=col>Name</th><th scope=col>ChrA</th><th scope=col>StartA</th><th scope=col>EndA</th><th scope=col>ChrB</th><th scope=col>StartB</th><th scope=col>EndB</th><th scope=col>Size</th><th scope=col>Copied</th><th scope=col>BpSeqA</th><th scope=col>BpSeqB_5prime</th><th scope=col>BpSeqB_3prime</th></tr></thead>\n",
       "<tbody>\n",
       "\t<tr><td>insertion_1</td><td>chr1       </td><td>14         </td><td>18         </td><td>chr2       </td><td>10         </td><td>14         </td><td>5          </td><td>FALSE      </td><td>AAAAAT     </td><td>GGGAAA     </td><td>AAAGGG     </td></tr>\n",
       "\t<tr><td>insertion_2</td><td>chr1       </td><td>30         </td><td>34         </td><td>chr2       </td><td>27         </td><td>31         </td><td>5          </td><td>FALSE      </td><td>TTTTTT     </td><td>CCCTTT     </td><td>TTTCCC     </td></tr>\n",
       "\t<tr><td>insertion_3</td><td>chr1       </td><td> 4         </td><td> 8         </td><td>chr2       </td><td>33         </td><td>37         </td><td>5          </td><td>FALSE      </td><td>AAAAAA     </td><td>CCCAAA     </td><td>AAACCC     </td></tr>\n",
       "</tbody>\n",
       "</table>\n"
      ],
      "text/latex": [
       "\\textbf{\\$insertions} = \\begin{tabular}{r|llllllllllll}\n",
       " Name & ChrA & StartA & EndA & ChrB & StartB & EndB & Size & Copied & BpSeqA & BpSeqB\\_5prime & BpSeqB\\_3prime\\\\\n",
       "\\hline\n",
       "\t insertion\\_1 & chr1          & 14            & 18            & chr2          & 10            & 14            & 5             & FALSE         & AAAAAT        & GGGAAA        & AAAGGG       \\\\\n",
       "\t insertion\\_2 & chr1          & 30            & 34            & chr2          & 27            & 31            & 5             & FALSE         & TTTTTT        & CCCTTT        & TTTCCC       \\\\\n",
       "\t insertion\\_3 & chr1          &  4            &  8            & chr2          & 33            & 37            & 5             & FALSE         & AAAAAA        & CCCAAA        & AAACCC       \\\\\n",
       "\\end{tabular}\n"
      ],
      "text/markdown": [
       "**$insertions** = \n",
       "Name | ChrA | StartA | EndA | ChrB | StartB | EndB | Size | Copied | BpSeqA | BpSeqB_5prime | BpSeqB_3prime | \n",
       "|---|---|---|\n",
       "| insertion_1 | chr1        | 14          | 18          | chr2        | 10          | 14          | 5           | FALSE       | AAAAAT      | GGGAAA      | AAAGGG      | \n",
       "| insertion_2 | chr1        | 30          | 34          | chr2        | 27          | 31          | 5           | FALSE       | TTTTTT      | CCCTTT      | TTTCCC      | \n",
       "| insertion_3 | chr1        |  4          |  8          | chr2        | 33          | 37          | 5           | FALSE       | AAAAAA      | CCCAAA      | AAACCC      | \n",
       "\n",
       "\n"
      ],
      "text/plain": [
       "$insertions\n",
       "         Name ChrA StartA EndA ChrB StartB EndB Size Copied BpSeqA\n",
       "1 insertion_1 chr1     14   18 chr2     10   14    5  FALSE AAAAAT\n",
       "2 insertion_2 chr1     30   34 chr2     27   31    5  FALSE TTTTTT\n",
       "3 insertion_3 chr1      4    8 chr2     33   37    5  FALSE AAAAAA\n",
       "  BpSeqB_5prime BpSeqB_3prime\n",
       "1        GGGAAA        AAAGGG\n",
       "2        CCCTTT        TTTCCC\n",
       "3        CCCAAA        AAACCC\n"
      ]
     },
     "metadata": {},
     "output_type": "display_data"
    },
    {
     "data": {
      "text/plain": [
       "  A DNAStringSet instance of length 2\n",
       "    width seq                                               names               \n",
       "[1]    25 AAAAAAAAAATTTTTTTTTTTTTTT                         chr1\n",
       "[2]    55 GGGGGGGGGAAAAAGGGGGGGGG...TTTTCCCCCCAAAAACCCCCCCC chr2"
      ]
     },
     "metadata": {},
     "output_type": "display_data"
    }
   ],
   "source": [
    "sim = simulateSV(output=NA, genome=genome, ins=3, sizeIns=5, bpSeqSize=6,seed=246, verbose=FALSE)\n",
    "metadata(sim)\n",
    "sim"
   ]
  },
  {
   "cell_type": "markdown",
   "metadata": {},
   "source": [
    "#### Setting the parameter 'percCopiedIns' (range:  0-1) changes the amount of ”copy-and-paste” insertion behavior as in a Class II DNA transposon."
   ]
  },
  {
   "cell_type": "code",
   "execution_count": 6,
   "metadata": {},
   "outputs": [
    {
     "data": {
      "text/html": [
       "<strong>$insertions</strong> = <table>\n",
       "<thead><tr><th scope=col>Name</th><th scope=col>ChrA</th><th scope=col>StartA</th><th scope=col>EndA</th><th scope=col>ChrB</th><th scope=col>StartB</th><th scope=col>EndB</th><th scope=col>Size</th><th scope=col>Copied</th><th scope=col>BpSeqA</th><th scope=col>BpSeqB_5prime</th><th scope=col>BpSeqB_3prime</th></tr></thead>\n",
       "<tbody>\n",
       "\t<tr><td>insertion_1</td><td>chr1       </td><td>14         </td><td>18         </td><td>chr2       </td><td>10         </td><td>14         </td><td>5          </td><td>FALSE      </td><td>AAAAAT     </td><td>GGGAAA     </td><td>AAAGGG     </td></tr>\n",
       "\t<tr><td>insertion_2</td><td>chr1       </td><td>30         </td><td>34         </td><td>chr2       </td><td>27         </td><td>31         </td><td>5          </td><td> TRUE      </td><td>           </td><td>CCCTTT     </td><td>TTTCCC     </td></tr>\n",
       "\t<tr><td>insertion_3</td><td>chr1       </td><td> 4         </td><td> 8         </td><td>chr2       </td><td>33         </td><td>37         </td><td>5          </td><td> TRUE      </td><td>           </td><td>CCCAAA     </td><td>AAACCC     </td></tr>\n",
       "</tbody>\n",
       "</table>\n"
      ],
      "text/latex": [
       "\\textbf{\\$insertions} = \\begin{tabular}{r|llllllllllll}\n",
       " Name & ChrA & StartA & EndA & ChrB & StartB & EndB & Size & Copied & BpSeqA & BpSeqB\\_5prime & BpSeqB\\_3prime\\\\\n",
       "\\hline\n",
       "\t insertion\\_1 & chr1          & 14            & 18            & chr2          & 10            & 14            & 5             & FALSE         & AAAAAT        & GGGAAA        & AAAGGG       \\\\\n",
       "\t insertion\\_2 & chr1          & 30            & 34            & chr2          & 27            & 31            & 5             &  TRUE         &               & CCCTTT        & TTTCCC       \\\\\n",
       "\t insertion\\_3 & chr1          &  4            &  8            & chr2          & 33            & 37            & 5             &  TRUE         &               & CCCAAA        & AAACCC       \\\\\n",
       "\\end{tabular}\n"
      ],
      "text/markdown": [
       "**$insertions** = \n",
       "Name | ChrA | StartA | EndA | ChrB | StartB | EndB | Size | Copied | BpSeqA | BpSeqB_5prime | BpSeqB_3prime | \n",
       "|---|---|---|\n",
       "| insertion_1 | chr1        | 14          | 18          | chr2        | 10          | 14          | 5           | FALSE       | AAAAAT      | GGGAAA      | AAAGGG      | \n",
       "| insertion_2 | chr1        | 30          | 34          | chr2        | 27          | 31          | 5           |  TRUE       |             | CCCTTT      | TTTCCC      | \n",
       "| insertion_3 | chr1        |  4          |  8          | chr2        | 33          | 37          | 5           |  TRUE       |             | CCCAAA      | AAACCC      | \n",
       "\n",
       "\n"
      ],
      "text/plain": [
       "$insertions\n",
       "         Name ChrA StartA EndA ChrB StartB EndB Size Copied BpSeqA\n",
       "1 insertion_1 chr1     14   18 chr2     10   14    5  FALSE AAAAAT\n",
       "2 insertion_2 chr1     30   34 chr2     27   31    5   TRUE       \n",
       "3 insertion_3 chr1      4    8 chr2     33   37    5   TRUE       \n",
       "  BpSeqB_5prime BpSeqB_3prime\n",
       "1        GGGAAA        AAAGGG\n",
       "2        CCCTTT        TTTCCC\n",
       "3        CCCAAA        AAACCC\n"
      ]
     },
     "metadata": {},
     "output_type": "display_data"
    },
    {
     "data": {
      "text/plain": [
       "  A DNAStringSet instance of length 2\n",
       "    width seq                                               names               \n",
       "[1]    35 AAAAAAAAAAAAAAATTTTTTTTTTTTTTTTTTTT               chr1\n",
       "[2]    55 GGGGGGGGGAAAAAGGGGGGGGG...TTTTCCCCCCAAAAACCCCCCCC chr2"
      ]
     },
     "metadata": {},
     "output_type": "display_data"
    }
   ],
   "source": [
    "sim = simulateSV(output=NA, genome=genome, ins=3, sizeIns=5, percCopiedIns=0.66,bpSeqSize=6, seed=246, verbose=FALSE)\n",
    "metadata(sim)\n",
    "sim"
   ]
  },
  {
   "cell_type": "markdown",
   "metadata": {},
   "source": [
    "### INVERSION \n",
    "#### Here a segment is cut from one chromosome and its reverse complement is inserted at the same place without loss or a shift of sequence."
   ]
  },
  {
   "cell_type": "code",
   "execution_count": 7,
   "metadata": {},
   "outputs": [
    {
     "data": {
      "text/html": [
       "<strong>$inversions</strong> = <table>\n",
       "<thead><tr><th scope=col>Name</th><th scope=col>Chr</th><th scope=col>Start</th><th scope=col>End</th><th scope=col>Size</th><th scope=col>BpSeq_3prime</th><th scope=col>BpSeq_5prime</th></tr></thead>\n",
       "<tbody>\n",
       "\t<tr><td>inversion1</td><td>chr1      </td><td>31        </td><td>32        </td><td>2         </td><td>TAATTT    </td><td>TTTAAT    </td></tr>\n",
       "\t<tr><td>inversion2</td><td>chr2      </td><td>15        </td><td>18        </td><td>4         </td><td>CCCGGC    </td><td>GGGCCC    </td></tr>\n",
       "\t<tr><td>inversion3</td><td>chr2      </td><td> 6        </td><td>11        </td><td>6         </td><td>CCCGGG    </td><td>GGGCCC    </td></tr>\n",
       "</tbody>\n",
       "</table>\n"
      ],
      "text/latex": [
       "\\textbf{\\$inversions} = \\begin{tabular}{r|lllllll}\n",
       " Name & Chr & Start & End & Size & BpSeq\\_3prime & BpSeq\\_5prime\\\\\n",
       "\\hline\n",
       "\t inversion1 & chr1       & 31         & 32         & 2          & TAATTT     & TTTAAT    \\\\\n",
       "\t inversion2 & chr2       & 15         & 18         & 4          & CCCGGC     & GGGCCC    \\\\\n",
       "\t inversion3 & chr2       &  6         & 11         & 6          & CCCGGG     & GGGCCC    \\\\\n",
       "\\end{tabular}\n"
      ],
      "text/markdown": [
       "**$inversions** = \n",
       "Name | Chr | Start | End | Size | BpSeq_3prime | BpSeq_5prime | \n",
       "|---|---|---|\n",
       "| inversion1 | chr1       | 31         | 32         | 2          | TAATTT     | TTTAAT     | \n",
       "| inversion2 | chr2       | 15         | 18         | 4          | CCCGGC     | GGGCCC     | \n",
       "| inversion3 | chr2       |  6         | 11         | 6          | CCCGGG     | GGGCCC     | \n",
       "\n",
       "\n"
      ],
      "text/plain": [
       "$inversions\n",
       "        Name  Chr Start End Size BpSeq_3prime BpSeq_5prime\n",
       "1 inversion1 chr1    31  32    2       TAATTT       TTTAAT\n",
       "2 inversion2 chr2    15  18    4       CCCGGC       GGGCCC\n",
       "3 inversion3 chr2     6  11    6       CCCGGG       GGGCCC\n"
      ]
     },
     "metadata": {},
     "output_type": "display_data"
    },
    {
     "data": {
      "text/plain": [
       "  A DNAStringSet instance of length 2\n",
       "    width seq                                               names               \n",
       "[1]    40 AAAAAAAAAAAAAAAAAAAATTTTTTTTTTAATTTTTTTT          chr1\n",
       "[2]    40 GGGGGCCCCCCGGGCCCCGGCCCCCCCCCCCCCCCCCCCC          chr2"
      ]
     },
     "metadata": {},
     "output_type": "display_data"
    }
   ],
   "source": [
    "sim = simulateSV(output=NA, genome=genome, invs=3, sizeInvs=c(2,4,6),bpSeqSize=6, seed=456, verbose=FALSE)\n",
    "metadata(sim)\n",
    "sim"
   ]
  },
  {
   "cell_type": "markdown",
   "metadata": {},
   "source": [
    "### TANDEM DUPLICATION \n",
    "#### Here a segment is duplicated one after the other. The number of duplications is randomly determined. The parameter 'maxDups' sets the maximum. "
   ]
  },
  {
   "cell_type": "code",
   "execution_count": 8,
   "metadata": {},
   "outputs": [
    {
     "data": {
      "text/html": [
       "<strong>$tandemDuplications</strong> = <table>\n",
       "<thead><tr><th scope=col>Name</th><th scope=col>Chr</th><th scope=col>Start</th><th scope=col>End</th><th scope=col>Size</th><th scope=col>Duplications</th><th scope=col>BpSeq</th></tr></thead>\n",
       "<tbody>\n",
       "\t<tr><td>tandemDuplication1</td><td>chr2              </td><td>28                </td><td>33                </td><td>6                 </td><td>3                 </td><td>CCCCCC            </td></tr>\n",
       "</tbody>\n",
       "</table>\n"
      ],
      "text/latex": [
       "\\textbf{\\$tandemDuplications} = \\begin{tabular}{r|lllllll}\n",
       " Name & Chr & Start & End & Size & Duplications & BpSeq\\\\\n",
       "\\hline\n",
       "\t tandemDuplication1 & chr2               & 28                 & 33                 & 6                  & 3                  & CCCCCC            \\\\\n",
       "\\end{tabular}\n"
      ],
      "text/markdown": [
       "**$tandemDuplications** = \n",
       "Name | Chr | Start | End | Size | Duplications | BpSeq | \n",
       "|---|\n",
       "| tandemDuplication1 | chr2               | 28                 | 33                 | 6                  | 3                  | CCCCCC             | \n",
       "\n",
       "\n"
      ],
      "text/plain": [
       "$tandemDuplications\n",
       "                Name  Chr Start End Size Duplications  BpSeq\n",
       "1 tandemDuplication1 chr2    28  33    6            3 CCCCCC\n"
      ]
     },
     "metadata": {},
     "output_type": "display_data"
    },
    {
     "data": {
      "text/plain": [
       "  A DNAStringSet instance of length 2\n",
       "    width seq                                               names               \n",
       "[1]    40 AAAAAAAAAAAAAAAAAAAATTTTTTTTTTTTTTTTTTTT          chr1\n",
       "[2]    58 GGGGGGGGGGGGGGGGGGGGCCC...CCCCCCCCCCCCCCCCCCCCCCC chr2"
      ]
     },
     "metadata": {},
     "output_type": "display_data"
    }
   ],
   "source": [
    "sim = simulateSV(output=NA, genome=genome, dups=1, sizeDups=6, maxDups=3,bpSeqSize=6, seed=3456, verbose=FALSE)\n",
    "metadata(sim)\n",
    "sim"
   ]
  },
  {
   "cell_type": "markdown",
   "metadata": {
    "collapsed": true
   },
   "source": [
    "### TRANSLOCATION \n",
    "#### A segment from the 5’ or 3’ end of chromosome A is exchanged with the 5’ or 3’ end of chromosome B.  If it is not balanced, the segment from chromosome B will be lost, resulting in a duplicated sequence from chromosome A. "
   ]
  },
  {
   "cell_type": "code",
   "execution_count": 9,
   "metadata": {},
   "outputs": [
    {
     "data": {
      "text/html": [
       "<strong>$translocations</strong> = <table>\n",
       "<thead><tr><th scope=col>Name</th><th scope=col>ChrA</th><th scope=col>StartA</th><th scope=col>EndA</th><th scope=col>SizeA</th><th scope=col>ChrB</th><th scope=col>StartB</th><th scope=col>EndB</th><th scope=col>SizeB</th><th scope=col>Balanced</th><th scope=col>BpSeqA</th><th scope=col>BpSeqB</th></tr></thead>\n",
       "<tbody>\n",
       "\t<tr><td>translocation_1</td><td>chr2           </td><td>38             </td><td>40             </td><td>3              </td><td>chr1           </td><td>1              </td><td>19             </td><td>19             </td><td>TRUE           </td><td>CCCTTT         </td><td>GGGATT         </td></tr>\n",
       "</tbody>\n",
       "</table>\n"
      ],
      "text/latex": [
       "\\textbf{\\$translocations} = \\begin{tabular}{r|llllllllllll}\n",
       " Name & ChrA & StartA & EndA & SizeA & ChrB & StartB & EndB & SizeB & Balanced & BpSeqA & BpSeqB\\\\\n",
       "\\hline\n",
       "\t translocation\\_1 & chr2              & 38                & 40                & 3                 & chr1              & 1                 & 19                & 19                & TRUE              & CCCTTT            & GGGATT           \\\\\n",
       "\\end{tabular}\n"
      ],
      "text/markdown": [
       "**$translocations** = \n",
       "Name | ChrA | StartA | EndA | SizeA | ChrB | StartB | EndB | SizeB | Balanced | BpSeqA | BpSeqB | \n",
       "|---|\n",
       "| translocation_1 | chr2            | 38              | 40              | 3               | chr1            | 1               | 19              | 19              | TRUE            | CCCTTT          | GGGATT          | \n",
       "\n",
       "\n"
      ],
      "text/plain": [
       "$translocations\n",
       "             Name ChrA StartA EndA SizeA ChrB StartB EndB SizeB Balanced BpSeqA\n",
       "1 translocation_1 chr2     38   40     3 chr1      1   19    19     TRUE CCCTTT\n",
       "  BpSeqB\n",
       "1 GGGATT\n"
      ]
     },
     "metadata": {},
     "output_type": "display_data"
    },
    {
     "data": {
      "text/plain": [
       "  A DNAStringSet instance of length 2\n",
       "    width seq                                               names               \n",
       "[1]    24 GGGATTTTTTTTTTTTTTTTTTTT                          chr1\n",
       "[2]    56 GGGGGGGGGGGGGGGGGGGGCCC...CCCCTTTTTTTTTTTTTTTTTTT chr2"
      ]
     },
     "metadata": {},
     "output_type": "display_data"
    }
   ],
   "source": [
    "sim = simulateSV(output=NA, genome=genome,trans=1, bpSeqSize=6, seed=123, verbose=FALSE)\n",
    "metadata(sim)\n",
    "sim"
   ]
  },
  {
   "cell_type": "markdown",
   "metadata": {},
   "source": [
    "### Biasing SV simulation with repeat region formation.\n",
    "\n",
    "#### By default, the SV breakpoints are placed uniformly across the genome. Transposable element insertions may be biased in a predictable way.  Weights applied in SV formation for TEs are:\n",
    "\n",
    "- dels  ins invs dups trans\n",
    "- 0.04 0.82 0.00 0.82  0.00\n",
    "\n",
    "#### The default weights for repeat regions for every SV mechanism are based on enrichment analysis in *Lamet al., 2010*. The exact values are:"
   ]
  },
  {
   "cell_type": "code",
   "execution_count": 10,
   "metadata": {},
   "outputs": [
    {
     "name": "stdout",
     "output_type": "stream",
     "text": [
      "       NAHR  NHR  TEI VNTR Other\n",
      "L1     0.59 1.04 1.66    0     0\n",
      "L2     0.13 0.62 0.25    0     0\n",
      "Alu    2.72 1.16 0.47    0     0\n",
      "MIR    0.14 0.74 0.14    0     0\n",
      "SD     5.95 2.06 0.57    0     0\n",
      "TR     0.00 0.00 0.00    1     0\n",
      "Random 1.00 1.00 1.00    0     1\n"
     ]
    }
   ],
   "source": [
    "data(weightsRepeats, package=\"RSVSim\")\n",
    "show(weightsRepeats)"
   ]
  },
  {
   "cell_type": "markdown",
   "metadata": {},
   "source": [
    "### Inserting a Set of SVs.\n",
    "\n",
    "#### For certain simulations you are allowed to turn off the random generation of breakpoints and insert a set of previously detected or known SVs.\n",
    "\n",
    "#### This example below inserts a deletion at chr2:16-25"
   ]
  },
  {
   "cell_type": "code",
   "execution_count": 13,
   "metadata": {},
   "outputs": [
    {
     "data": {
      "text/plain": [
       "GRanges object with 1 range and 0 metadata columns:\n",
       "             seqnames    ranges strand\n",
       "                <Rle> <IRanges>  <Rle>\n",
       "  myDeletion     chr2  [16, 25]      *\n",
       "  -------\n",
       "  seqinfo: 1 sequence from an unspecified genome; no seqlengths"
      ]
     },
     "metadata": {},
     "output_type": "display_data"
    }
   ],
   "source": [
    "knownDeletion = GRanges(IRanges(16,25), seqnames=\"chr2\")\n",
    "names(knownDeletion) = \"myDeletion\"\n",
    "knownDeletion"
   ]
  },
  {
   "cell_type": "code",
   "execution_count": 15,
   "metadata": {},
   "outputs": [
    {
     "data": {
      "text/html": [
       "<strong>$deletions</strong> = <table>\n",
       "<thead><tr><th></th><th scope=col>Name</th><th scope=col>Chr</th><th scope=col>Start</th><th scope=col>End</th><th scope=col>Size</th><th scope=col>BpSeq</th></tr></thead>\n",
       "<tbody>\n",
       "\t<tr><th scope=row>myDeletion</th><td>myDeletion</td><td>chr2      </td><td>16        </td><td>25        </td><td>10        </td><td>GGGGGCCCCC</td></tr>\n",
       "</tbody>\n",
       "</table>\n"
      ],
      "text/latex": [
       "\\textbf{\\$deletions} = \\begin{tabular}{r|llllll}\n",
       "  & Name & Chr & Start & End & Size & BpSeq\\\\\n",
       "\\hline\n",
       "\tmyDeletion & myDeletion & chr2       & 16         & 25         & 10         & GGGGGCCCCC\\\\\n",
       "\\end{tabular}\n"
      ],
      "text/markdown": [
       "**$deletions** = \n",
       "| <!--/--> | Name | Chr | Start | End | Size | BpSeq | \n",
       "|---|\n",
       "| myDeletion | myDeletion | chr2       | 16         | 25         | 10         | GGGGGCCCCC | \n",
       "\n",
       "\n"
      ],
      "text/plain": [
       "$deletions\n",
       "                 Name  Chr Start End Size      BpSeq\n",
       "myDeletion myDeletion chr2    16  25   10 GGGGGCCCCC\n"
      ]
     },
     "metadata": {},
     "output_type": "display_data"
    },
    {
     "data": {
      "text/plain": [
       "  A DNAStringSet instance of length 2\n",
       "    width seq                                               names               \n",
       "[1]    40 AAAAAAAAAAAAAAAAAAAATTTTTTTTTTTTTTTTTTTT          chr1\n",
       "[2]    30 GGGGGGGGGGGGGGGCCCCCCCCCCCCCCC                    chr2"
      ]
     },
     "metadata": {},
     "output_type": "display_data"
    }
   ],
   "source": [
    "sim = simulateSV(output=NA, genome=genome, regionsDels=knownDeletion,bpSeqSize=10, random=FALSE, verbose=FALSE)\n",
    "metadata(sim)\n",
    "sim"
   ]
  },
  {
   "cell_type": "code",
   "execution_count": null,
   "metadata": {
    "collapsed": true
   },
   "outputs": [],
   "source": []
  }
 ],
 "metadata": {
  "kernelspec": {
   "display_name": "R",
   "language": "R",
   "name": "ir"
  },
  "language_info": {
   "codemirror_mode": "r",
   "file_extension": ".r",
   "mimetype": "text/x-r-source",
   "name": "R",
   "pygments_lexer": "r",
   "version": "3.3.2"
  }
 },
 "nbformat": 4,
 "nbformat_minor": 2
}
